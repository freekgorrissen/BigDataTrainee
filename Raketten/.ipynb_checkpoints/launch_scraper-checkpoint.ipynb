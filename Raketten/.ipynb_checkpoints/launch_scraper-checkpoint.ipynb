{
 "cells": [
  {
   "cell_type": "code",
   "execution_count": 1,
   "id": "360f5527",
   "metadata": {
    "scrolled": false
   },
   "outputs": [],
   "source": [
    "import matplotlib.pyplot as plt ## plotting package\n",
    "import pandas as pd ## tabel package\n",
    "import requests\n",
    "from bs4 import BeautifulSoup\n",
    "from datetime import datetime"
   ]
  },
  {
   "cell_type": "code",
   "execution_count": 2,
   "id": "f833296d",
   "metadata": {
    "scrolled": false
   },
   "outputs": [],
   "source": [
    "# Basis URL zonder offset\n",
    "URL1 = 'https://en.wikipedia.org/wiki/List_of_human_spaceflights,_1961-1970'\n",
    "URL2 = 'https://en.wikipedia.org/wiki/List_of_human_spaceflights,_1971-1980'\n",
    "URL3 = 'https://en.wikipedia.org/wiki/List_of_human_spaceflights,_1981-1990'\n",
    "URL4 = 'https://en.wikipedia.org/wiki/List_of_human_spaceflights,_1991-2000'\n",
    "URL5 = 'https://en.wikipedia.org/wiki/List_of_human_spaceflights,_2001-2010'\n",
    "URL6 = 'https://en.wikipedia.org/wiki/List_of_human_spaceflights,_2011-2020'\n",
    "URL7 = 'https://en.wikipedia.org/wiki/List_of_human_spaceflights,_2021-present'\n",
    "URLS = [URL1, URL2, URL3, URL4, URL5, URL6, URL7]"
   ]
  },
  {
   "cell_type": "code",
   "execution_count": 3,
   "id": "a0b1c2c4",
   "metadata": {
    "scrolled": false
   },
   "outputs": [],
   "source": [
    "class Vlucht:\n",
    "    id = 0           # index\n",
    "    jaar = 0         # jaar van lancering\n",
    "    massa = 0        # massa van capsule/payload\n",
    "    vluchtnaam = \"\"  # naam van vlucht\n",
    "    link = \"\"        # link naar vluchtpagina\n",
    "    rocketlink = \"\"  # link naar launch vehicle pagina\n",
    "    rocketmass = 0   # massa van launch vehicle\n",
    "    rocketname = \"\"  # naam van launch vehicle"
   ]
  },
  {
   "cell_type": "code",
   "execution_count": 38,
   "id": "c39c8d23",
   "metadata": {
    "scrolled": false
   },
   "outputs": [],
   "source": [
    "def lijst_halen(URL, vluchtlijst, start_id=0):\n",
    "    id_nr = start_id\n",
    "    page = requests.get(URL)\n",
    "    soup = BeautifulSoup(page.content, 'html.parser')\n",
    "    tabel = soup.find('tbody')\n",
    "    rijen = tabel.find_all('tr')\n",
    "    \n",
    "    vluchten = vluchtlijst\n",
    "    for rij in rijen[37:]:  #DIT AANPASSEN!!!\n",
    "#         print('Header nummer:' + rij.find('th').text)\n",
    "        if rij.find('th'):\n",
    "            \n",
    "# check of de rij een header heeft en deze header geen dash (—) is\n",
    "\n",
    "            id_nr += 1\n",
    "            vlucht = vlucht_halen(rij, id_nr)\n",
    "            print(str(id_nr) + \". Naam: \" + vlucht.vluchtnaam + \". Jaar: \" + str(vlucht.jaar))\n",
    "            if vlucht.rocketmass:\n",
    "                massastring = str(vlucht.rocketmass)\n",
    "            else:\n",
    "                massastring = \"Niet gevonden\"\n",
    "\n",
    "            print(\"Raket: \" + vlucht.rocketname + \". Massa: \" + massastring)\n",
    "            vluchten.append(vlucht)\n",
    "            print(\"*\" * 40)\n",
    "        else:\n",
    "            continue\n",
    "\n",
    "    \n",
    "    return vluchten, id_nr"
   ]
  },
  {
   "cell_type": "code",
   "execution_count": 39,
   "id": "e275d036",
   "metadata": {
    "scrolled": false
   },
   "outputs": [],
   "source": [
    "def vlucht_halen(rij, nr):\n",
    "    vlucht = Vlucht()\n",
    "    vlucht.id = nr\n",
    "    \n",
    "    cells = rij.find_all('td')\n",
    "    \n",
    "    # basisinformatie van lancering uit tabel halen\n",
    "    datumnaam = cells[1].text.split()\n",
    "    datum = \" \".join(datumnaam[0:2])\n",
    "    vlucht.datum = datum\n",
    "    jaar  = datumnaam[2]\n",
    "    vlucht.jaar = jaar\n",
    "    naam  = \" \".join(datumnaam[3:])\n",
    "    vlucht.vluchtnaam = naam\n",
    "    \n",
    "    # link uit tabel halen, databoxes van betreffende pagina uitlezen\n",
    "    urls = cells[1].find_all('a', href=True)\n",
    "    link = 'https://en.wikipedia.org/' + urls[-1].get('href') # laatste link uit lijst halen\n",
    "    vlucht.link = link\n",
    "    \n",
    "    page = requests.get(link)\n",
    "    soup = BeautifulSoup(page.content, 'html.parser')\n",
    "    tabel = soup.find('table', {'class' : 'infobox'})\n",
    "    headers = tabel.find_all('th', {'class' : 'infobox-label'})\n",
    "    datarijen = tabel.find_all('td', {'class' : 'infobox-data'})\n",
    "    \n",
    "    #index ophalen van launch mass (lm)\n",
    "    lm_index = 0\n",
    "    for i in range(len(headers)):\n",
    "        if headers[i].text == \"Launch mass\":\n",
    "            lm_index = i\n",
    "            break\n",
    "            \n",
    "    # launch mass inlezen\n",
    "    try:\n",
    "        massa_txt = datarijen[lm_index].text\n",
    "        massa = massa_txt.split()[0]\n",
    "        massa = massa.replace(',', '')\n",
    "        massa = float(massa)\n",
    "    except:\n",
    "        massa = None\n",
    "    vlucht.massa = massa\n",
    "    \n",
    "    # link ophalen van raket\n",
    "    rocket_index = 0\n",
    "    for i in range(len(headers)):\n",
    "        if headers[i].text == \"Rocket\":\n",
    "            rocket_index = i\n",
    "            break\n",
    "    \n",
    "    if rocket_index > 0:\n",
    "        urls = datarijen[rocket_index].find('a', href=True)\n",
    "        rocketlink = 'https://en.wikipedia.org/' + urls.get('href')\n",
    "        vlucht.rocketlink = rocketlink\n",
    "        vlucht.rocketname = urls.text\n",
    "        vlucht.rocketmass = raketmassa_ophalen(rocketlink)\n",
    "    else:\n",
    "        vlucht.rocketlink = None\n",
    "    \n",
    "    \n",
    "    ## return\n",
    "    return vlucht"
   ]
  },
  {
   "cell_type": "code",
   "execution_count": 40,
   "id": "c822bd5b",
   "metadata": {
    "scrolled": false
   },
   "outputs": [],
   "source": [
    "unit_conversion = {'kg' : 1,\n",
    "                   'kilogram' : 1,\n",
    "                   'kilograms' : 1,\n",
    "                   'lb' : 0.454,\n",
    "                   'pounds' : 0.454,\n",
    "                   'pound' : 0.454,\n",
    "                   }\n",
    "    \n",
    "\n",
    "def raketmassa_ophalen(URL):\n",
    "    mass = None   #default waarde, wordt veranderd als deze wordt gevonden\n",
    "    \n",
    "    page = requests.get(URL)\n",
    "    soup = BeautifulSoup(page.content, 'html.parser')\n",
    "    tabel = soup.find('table', {'class' : 'infobox hproduct'})\n",
    "    headers = tabel.find_all('th', {'class' : 'infobox-label'})\n",
    "    datarijen = tabel.find_all('td', {'class' : 'infobox-data'})\n",
    "    rijen = tabel.find_all('tr')\n",
    "    \n",
    "    # range bepalen van de elementen die onder de size header vallen\n",
    "    size_header_index = 0\n",
    "    capacity_header_index = 0\n",
    "    \n",
    "    for i in range(len(rijen)):\n",
    "        header = rijen[i].find('th')\n",
    "        if header: # check of de de rij een header is\n",
    "            if header.text == \"Size\":\n",
    "                size_header_index = i\n",
    "            elif header.text.strip() == \"Capacity\":\n",
    "                capacity_header_index = i\n",
    "    \n",
    "    if size_header_index and capacity_header_index:   # check of de size header en cap header zijn gevonden\n",
    "        # index van raket massa ophalen \n",
    "        for i in range(size_header_index, capacity_header_index):\n",
    "            header = rijen[i].find('th')\n",
    "            content = rijen[i].find('td')\n",
    "            \n",
    "            # check of de betreffende rij een header is\n",
    "            if header:\n",
    "                if header.text == \"Mass\": # check of het de juiste header is\n",
    "                    mass_line = content.text.split()\n",
    "                    unit_index = 0\n",
    "                    unit = None\n",
    "                    for key in unit_conversion.keys():\n",
    "                        try:\n",
    "                            unit_index = mass_line.index(key)\n",
    "                            unit = key\n",
    "                            break #breaks out of for loop if key is found\n",
    "                        except:\n",
    "                            continue\n",
    "\n",
    "                    if unit_index != 0:\n",
    "                        mass = mass_line[unit_index - 1]\n",
    "                        mass = mass.replace(',', '')\n",
    "                        mass = float(mass) * unit_conversion[unit]\n",
    "\n",
    "    return mass"
   ]
  },
  {
   "cell_type": "code",
   "execution_count": 41,
   "id": "6a855c52",
   "metadata": {
    "scrolled": false
   },
   "outputs": [],
   "source": [
    "startmsg = \"Starttijd: \"\n",
    "endmsg = \"Eindtijd: \"\n",
    "\n",
    "def printtime(message):\n",
    "    now = datetime.now()\n",
    "    current_time = now.strftime(\"%H:%M:%S\")\n",
    "    print(message + current_time)"
   ]
  },
  {
   "cell_type": "code",
   "execution_count": 42,
   "id": "88692b68",
   "metadata": {
    "scrolled": false
   },
   "outputs": [
    {
     "name": "stdout",
     "output_type": "stream",
     "text": [
      "Starttijd: 16:18:17\n",
      "XXXXXXXXXXXXXXXXXXXXXXXXXXXXXXXXXXXXXXXX\n",
      "1. Naam: Soyuz MS-07. Jaar: 2017\n",
      "Raket: Soyuz-FG. Massa: 305000.0\n",
      "****************************************\n",
      "2. Naam: Soyuz MS-08. Jaar: 2018\n",
      "Raket: Soyuz-FG. Massa: 305000.0\n",
      "****************************************\n",
      "3. Naam: Soyuz MS-09. Jaar: 2018\n",
      "Raket: Soyuz-FG. Massa: 305000.0\n",
      "****************************************\n",
      "4. Naam: Soyuz MS-10. Jaar: 2018\n",
      "Raket: Soyuz-FG. Massa: 305000.0\n",
      "****************************************\n",
      "5. Naam: Soyuz MS-11. Jaar: 2018\n",
      "Raket: Soyuz-FG. Massa: 305000.0\n",
      "****************************************\n",
      "6. Naam: VSS Unity VP-03. Jaar: 2018\n",
      "Raket: . Massa: Niet gevonden\n",
      "****************************************\n",
      "7. Naam: VSS Unity VF-01. Jaar: 2019\n",
      "Raket: . Massa: Niet gevonden\n",
      "****************************************\n",
      "8. Naam: Soyuz MS-12. Jaar: 2019\n",
      "Raket: Soyuz-FG. Massa: 305000.0\n",
      "****************************************\n",
      "9. Naam: Soyuz MS-13. Jaar: 2019\n",
      "Raket: Soyuz-FG. Massa: 305000.0\n",
      "****************************************\n",
      "10. Naam: Soyuz MS-15. Jaar: 2019\n",
      "Raket: Soyuz-FG. Massa: 305000.0\n",
      "****************************************\n",
      "11. Naam: Soyuz MS-16. Jaar: 2020\n",
      "Raket: Soyuz-2.1a. Massa: 312000.0\n",
      "****************************************\n",
      "12. Naam: Crew Dragon Demo-2. Jaar: 2020\n",
      "Raket: Falcon 9 Block 5. Massa: Niet gevonden\n",
      "****************************************\n",
      "13. Naam: Soyuz MS-17. Jaar: 2020\n",
      "Raket: Soyuz-2.1a. Massa: 312000.0\n",
      "****************************************\n",
      "14. Naam: SpaceX Crew-1. Jaar: 2020\n",
      "Raket: Falcon 9 Block 5. Massa: Niet gevonden\n",
      "****************************************\n",
      "XXXXXXXXXXXXXXXXXXXXXXXXXXXXXXXXXXXXXXXXXXXXXXXXXXXXXXXXXXXX\n",
      "Eindtijd: 16:18:28\n",
      "Tijd verstreken: 0 minuten, 11 seconden.\n",
      "XXXXXXXXXXXXXXXXXXXXXXXXXXXXXXXXXXXXXXXXXXXXXXXXXXXXXXXXXXXX\n"
     ]
    }
   ],
   "source": [
    "vluchten = []    # initialiseer nieuwe vluchtlijst\n",
    "id_huidig = 0    # initialiseer index\n",
    "\n",
    "start = datetime.now()\n",
    "printtime(startmsg)\n",
    "print(\"X\" * 40)\n",
    "\n",
    "for u in URLS[5:6]:\n",
    "    vluchten, id_huidig = lijst_halen(u, vluchten, start_id=id_huidig)\n",
    "    print(\"X\" * 60)\n",
    "    printtime(endmsg)\n",
    "    minutes = (datetime.now() - start).seconds // 60    #floor division by 60\n",
    "    seconds = (datetime.now() - start).seconds %  60    #modulo by 60 \n",
    "    print(\"Tijd verstreken: \" + str(minutes) + ' minuten, ' + str(seconds) + ' seconden.')\n",
    "    print(\"X\" * 60)\n",
    "\n",
    "    \n"
   ]
  },
  {
   "cell_type": "code",
   "execution_count": 11,
   "id": "cf9aaef4",
   "metadata": {
    "scrolled": false
   },
   "outputs": [],
   "source": [
    "now1 = datetime.now()\n",
    "\n",
    "# timediff = now.strftime(\"%H:%M:%S\")\n",
    "# now = datetime.now()\n",
    "# current_time = now.strftime(\"%H:%M:%S\")\n",
    "# print(timediff)\n",
    "# current_time = now.strftime(\"%H:%M:%S\")\n",
    "# print(\"Current Time =\", current_time)"
   ]
  },
  {
   "cell_type": "code",
   "execution_count": 25,
   "id": "9c3b823e",
   "metadata": {
    "scrolled": false
   },
   "outputs": [
    {
     "name": "stdout",
     "output_type": "stream",
     "text": [
      "hoi 0:04:25.109618\n",
      "min: 4 seconds: 25\n"
     ]
    }
   ],
   "source": [
    "now2 = datetime.now()\n",
    "diff = now2 - now1\n",
    "print(\"hoi \" + str(diff))\n",
    "seconds = diff.seconds %60\n",
    "minutes = diff.seconds //60\n",
    "print('min: ' + str(minutes) + ' seconds: ' + str(seconds))"
   ]
  },
  {
   "cell_type": "code",
   "execution_count": 31,
   "id": "f9dd094c",
   "metadata": {
    "scrolled": false
   },
   "outputs": [
    {
     "data": {
      "text/plain": [
       "True"
      ]
     },
     "execution_count": 31,
     "metadata": {},
     "output_type": "execute_result"
    }
   ],
   "source": [
    "a = '320'\n",
    "a.isnumeric()"
   ]
  }
 ],
 "metadata": {
  "kernelspec": {
   "display_name": "Python 3 (ipykernel)",
   "language": "python",
   "name": "python3"
  },
  "language_info": {
   "codemirror_mode": {
    "name": "ipython",
    "version": 3
   },
   "file_extension": ".py",
   "mimetype": "text/x-python",
   "name": "python",
   "nbconvert_exporter": "python",
   "pygments_lexer": "ipython3",
   "version": "3.9.7"
  }
 },
 "nbformat": 4,
 "nbformat_minor": 5
}
