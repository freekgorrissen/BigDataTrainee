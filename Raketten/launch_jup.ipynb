{
 "cells": [
  {
   "cell_type": "code",
   "execution_count": 1,
   "source": [
    "import pandas as pd\r\n",
    "import matplotlib.pyplot as plt"
   ],
   "outputs": [],
   "metadata": {}
  },
  {
   "cell_type": "code",
   "execution_count": 2,
   "source": [
    "launchfile = \"launchlog.txt\"\r\n",
    "\r\n",
    "ldb = pd.read_fwf(launchfile) ## Launch database = ldb\r\n",
    "ldb.drop(columns=[\"Unnamed: 10\", \"Unnamed: 11\", \"Unnamed: 12\"], inplace=True) ## Remove empty columns with launchpad info\r\n"
   ],
   "outputs": [],
   "metadata": {}
  },
  {
   "cell_type": "code",
   "execution_count": 3,
   "source": [
    "ldb.columns = [\"Code\", \"Date_Full\", \"Time\", \"COSPAR\",\r\n",
    "                     \"Payload1\", \"Payload2\", \"SATCAT\", \"LV_Type\", \"LV_Serial\",\r\n",
    "                     \"Site\", \"Succes\", \"Reference\"]\r\n",
    "\r\n",
    "ldb[\"Year\"] = ldb[\"Date_Full\"].str.slice(start=0, stop=4)\r\n",
    "ldb[\"Date\"] = ldb[\"Date_Full\"].str.slice(start=4, stop=None)"
   ],
   "outputs": [],
   "metadata": {}
  },
  {
   "cell_type": "code",
   "execution_count": 11,
   "source": [
    "vehicfile = \"launchvehicles.txt\"\r\n",
    "vdb = pd.read_fwf(vehicfile, skiprows=65) ## vehicle database  = vdb\r\n",
    "vhead = pd.read_fwf(vehicfile, nrows=64)"
   ],
   "outputs": [],
   "metadata": {}
  },
  {
   "cell_type": "code",
   "execution_count": 15,
   "source": [
    "colname = \"#TEXT/DTF-FIXED\"\r\n",
    "colnames = []\r\n",
    "\r\n",
    "for row in vhead[colname]:\r\n",
    "    if row[0:5] == \"TTYPE\":\r\n",
    "        newname = row[11:-1]\r\n",
    "        colnames.append(newname)"
   ],
   "outputs": [],
   "metadata": {}
  },
  {
   "cell_type": "code",
   "execution_count": 24,
   "source": [
    "tempcolnames = []\r\n",
    "for i in range(len(vdb.columns)):\r\n",
    "    tempcolnames.append(\"Col\" + str(i))\r\n",
    "\r\n",
    "vdb.columns = tempcolnames"
   ],
   "outputs": [],
   "metadata": {}
  },
  {
   "cell_type": "code",
   "execution_count": 44,
   "source": [
    "# vdb.Col8\r\n",
    "vdb[[\"Col17\", \"Col18\"]] = vdb[\"Col8\"].str.split(expand=True)\r\n",
    "vdb[\"Col17\"]\r\n",
    "# vdb[\"Col18\"] = vdb[\"Col8\"].split()[1]"
   ],
   "outputs": [
    {
     "output_type": "execute_result",
     "data": {
      "text/plain": [
       "0       105.3\n",
       "1       110.6\n",
       "2       104.8\n",
       "3        50.0\n",
       "4       118.0\n",
       "        ...  \n",
       "1627      2.1\n",
       "1628      2.1\n",
       "1629      6.4\n",
       "1630      0.0\n",
       "1631      5.6\n",
       "Name: Col17, Length: 1632, dtype: object"
      ]
     },
     "metadata": {},
     "execution_count": 44
    }
   ],
   "metadata": {}
  },
  {
   "cell_type": "code",
   "execution_count": null,
   "source": [],
   "outputs": [],
   "metadata": {}
  }
 ],
 "metadata": {
  "kernelspec": {
   "name": "python3",
   "display_name": "Python 3.9.6 64-bit"
  },
  "language_info": {
   "codemirror_mode": {
    "name": "ipython",
    "version": 3
   },
   "file_extension": ".py",
   "mimetype": "text/x-python",
   "name": "python",
   "nbconvert_exporter": "python",
   "pygments_lexer": "ipython3",
   "version": "3.9.6"
  },
  "interpreter": {
   "hash": "69f6be9aee639d807a540a251f3ec42de1a0b7d32a189f5641a6bfc341e473ae"
  }
 },
 "nbformat": 4,
 "nbformat_minor": 5
}